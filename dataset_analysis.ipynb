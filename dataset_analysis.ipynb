{
  "nbformat": 4,
  "nbformat_minor": 0,
  "metadata": {
    "colab": {
      "provenance": [],
      "authorship_tag": "ABX9TyMLr5ju2/RQCg2hP8aJC+i+",
      "include_colab_link": true
    },
    "kernelspec": {
      "name": "python3",
      "display_name": "Python 3"
    },
    "language_info": {
      "name": "python"
    }
  },
  "cells": [
    {
      "cell_type": "markdown",
      "metadata": {
        "id": "view-in-github",
        "colab_type": "text"
      },
      "source": [
        "<a href=\"https://colab.research.google.com/github/sdancyger/sparcs_descriptive_2022/blob/main/dataset_analysis.ipynb\" target=\"_parent\"><img src=\"https://colab.research.google.com/assets/colab-badge.svg\" alt=\"Open In Colab\"/></a>"
      ]
    },
    {
      "cell_type": "markdown",
      "source": [
        "# SPARCS Descriptive 2022"
      ],
      "metadata": {
        "id": "Ew47UHgASGO-"
      }
    },
    {
      "cell_type": "markdown",
      "source": [
        "## Objective:\n",
        "In this assignment, you will load a portion of the 2022 SPARCS (Statewide Planning and Research Cooperative System) de-identified data. You will perform basic descriptive statistics and create visualizations based on the data. This will allow you to explore healthcare trends, patient demographics, and hospital performance metrics.\n",
        "\n",
        "By the end of this assignment, you will have uploaded your Python notebook and analysis to a GitHub repository named \"sparcs_descriptive_2022\".\n",
        "\n"
      ],
      "metadata": {
        "id": "WLfotQEDSLbC"
      }
    },
    {
      "cell_type": "markdown",
      "source": [
        "## Dataset link\n",
        "https://health.data.ny.gov/Health/Hospital-Inpatient-Discharges-SPARCS-De-Identified/5dtw-tffi/about_data"
      ],
      "metadata": {
        "id": "ps_uzHsnSbpz"
      }
    },
    {
      "cell_type": "code",
      "source": [
        "pip install pandas"
      ],
      "metadata": {
        "id": "Tc8pY-81SkTO"
      },
      "execution_count": null,
      "outputs": []
    },
    {
      "cell_type": "code",
      "source": [
        "import pandas as pd\n"
      ],
      "metadata": {
        "id": "itXjRqiBSxIh"
      },
      "execution_count": null,
      "outputs": []
    },
    {
      "cell_type": "code",
      "source": [
        "import matplotlib.pyplot as plt\n"
      ],
      "metadata": {
        "id": "lg-sZyWdTC7l"
      },
      "execution_count": null,
      "outputs": []
    },
    {
      "cell_type": "markdown",
      "source": [
        "## Loaded dataset"
      ],
      "metadata": {
        "id": "3Ugj7K8oTE54"
      }
    },
    {
      "cell_type": "code",
      "source": [
        "from google.colab import files\n",
        "uploaded = files.upload()"
      ],
      "metadata": {
        "id": "Yp4JRt_dTWWV"
      },
      "execution_count": null,
      "outputs": []
    },
    {
      "cell_type": "markdown",
      "source": [
        "## Connect Google Drive for data loading"
      ],
      "metadata": {
        "id": "ykZC18AqrysK"
      }
    },
    {
      "cell_type": "code",
      "source": [
        "from google.colab import drive\n",
        "import pandas as pd\n",
        "\n"
      ],
      "metadata": {
        "id": "Vxutw7XDrkQO"
      },
      "execution_count": null,
      "outputs": []
    },
    {
      "cell_type": "code",
      "source": [
        "drive.mount('/content/drive')\n"
      ],
      "metadata": {
        "id": "4Dj0q8Rerts6"
      },
      "execution_count": null,
      "outputs": []
    },
    {
      "cell_type": "code",
      "source": [
        "file_path = '/content/drive/My Drive/SPARCS_2022.csv'\n",
        "df = pd.read_csv(file_path)\n"
      ],
      "metadata": {
        "id": "0BzzyKOXr3Dp"
      },
      "execution_count": null,
      "outputs": []
    },
    {
      "cell_type": "code",
      "source": [
        "df.head()"
      ],
      "metadata": {
        "id": "UfHaOsRNsRds"
      },
      "execution_count": null,
      "outputs": []
    },
    {
      "cell_type": "code",
      "source": [
        "import pandas as pd\n"
      ],
      "metadata": {
        "id": "EJC-WbaRTcvK"
      },
      "execution_count": null,
      "outputs": []
    },
    {
      "cell_type": "code",
      "source": [
        "df = pd.read_csv('/content/drive/My Drive/SPARCS_2022.csv')\n"
      ],
      "metadata": {
        "id": "JiEdF4tKrjh2"
      },
      "execution_count": null,
      "outputs": []
    },
    {
      "cell_type": "markdown",
      "source": [
        "## Separation of Fields"
      ],
      "metadata": {
        "id": "BEhBpZhltAor"
      }
    },
    {
      "cell_type": "code",
      "source": [
        "import pandas as pd\n",
        "import matplotlib.pyplot as plt\n",
        "\n",
        "## dataset loaded\n",
        "df = pd.read_csv('/content/drive/My Drive/SPARCS_2022.csv')\n",
        "\n",
        "## separation of fields\n",
        "df_subset = df[['Age Group', 'Gender', 'Length of Stay', 'Total Charges', 'Total Costs', 'Type of Admission']]\n"
      ],
      "metadata": {
        "colab": {
          "base_uri": "https://localhost:8080/"
        },
        "id": "Y0rAQIbptGtL",
        "outputId": "c5b9d2b6-7d34-4251-cd89-73e275532d4e"
      },
      "execution_count": 1,
      "outputs": [
        {
          "output_type": "stream",
          "name": "stderr",
          "text": [
            "<ipython-input-1-915899fdc591>:5: DtypeWarning: Columns (29) have mixed types. Specify dtype option on import or set low_memory=False.\n",
            "  df = pd.read_csv('/content/drive/My Drive/SPARCS_2022.csv')\n"
          ]
        }
      ]
    },
    {
      "cell_type": "markdown",
      "source": [
        "## basic descriptive statistics"
      ],
      "metadata": {
        "id": "TqAJSbgV3OxX"
      }
    },
    {
      "cell_type": "code",
      "source": [
        "from google.colab import drive\n",
        "drive.mount('/content/drive')\n"
      ],
      "metadata": {
        "id": "yKQ3dOiM38gx"
      },
      "execution_count": null,
      "outputs": []
    },
    {
      "cell_type": "code",
      "source": [
        "import pandas as pd\n",
        "\n",
        "#loaded dataset\n",
        "df = pd.read_csv('/content/drive/My Drive/SPARCS_2022.csv')"
      ],
      "metadata": {
        "id": "nl05eA443Oci"
      },
      "execution_count": null,
      "outputs": []
    },
    {
      "cell_type": "code",
      "source": [
        "#field separation\n",
        "df_subset = df[['Length of Stay', 'Total Charges', 'Total Costs']]\n"
      ],
      "metadata": {
        "id": "bc98bnra4pLM"
      },
      "execution_count": null,
      "outputs": []
    },
    {
      "cell_type": "code",
      "source": [
        "basic_stats = df_subset.describe()\n",
        "\n",
        "#statistics\n",
        "basic_stats.loc['mean'] = df_subset.mean()\n",
        "basic_stats.loc['median'] = df_subset.median()\n",
        "basic_stats.loc['std'] = df_subset.std()\n",
        "basic_stats.loc['min'] = df_subset.min()\n",
        "basic_stats.loc['max'] = df_subset.max()\n",
        "basic_stats.loc['25%'] = df_subset.quantile(0.25)\n",
        "basic_stats.loc['50%'] = df_subset.quantile(0.50)\n",
        "basic_stats.loc['75%'] = df_subset.quantile(0.75)"
      ],
      "metadata": {
        "id": "71-RXyJ_6vyw"
      },
      "execution_count": null,
      "outputs": []
    },
    {
      "cell_type": "code",
      "source": [
        "#view\n",
        "print(\"Basic Descriptive Statistics:\")\n",
        "print(basic_stats)\n"
      ],
      "metadata": {
        "id": "Us4vQ0bQ5HGU"
      },
      "execution_count": null,
      "outputs": []
    },
    {
      "cell_type": "code",
      "source": [
        "## histogram : length of stay\n",
        "\n",
        "import pandas as pd\n",
        "import matplotlib.pyplot as plt\n",
        "\n",
        "## dataset loaded\n",
        "df = pd.read_csv('/content/drive/My Drive/SPARCS_2022.csv')\n"
      ],
      "metadata": {
        "id": "kWebD2GwtJ4T"
      },
      "execution_count": null,
      "outputs": []
    },
    {
      "cell_type": "code",
      "source": [
        "df_subset = df[['Age Group', 'Gender', 'Length of Stay', 'Total Charges', 'Total Costs', 'Type of Admission']]\n"
      ],
      "metadata": {
        "id": "mgdNBbu_x5P8"
      },
      "execution_count": null,
      "outputs": []
    },
    {
      "cell_type": "code",
      "source": [
        "plt.figure(figsize=(40, 5))\n",
        "plt.hist(df_subset['Length of Stay'], bins=range(0, 102, 2), edgecolor='yellow', color='hotpink')\n",
        "plt.title('Histogram : Length of Stay')\n",
        "plt.xlabel('Length of Stay (Days)')\n",
        "plt.ylabel('Frequency')\n",
        "plt.show()\n"
      ],
      "metadata": {
        "id": "2VFSwbEix8FZ"
      },
      "execution_count": null,
      "outputs": []
    },
    {
      "cell_type": "code",
      "source": [
        "## boxplot : total charges\n",
        "import pandas as pd\n",
        "import matplotlib.pyplot as plt\n",
        "\n",
        "## dataset loaded\n",
        "df = pd.read_csv('/content/drive/My Drive/SPARCS_2022.csv')"
      ],
      "metadata": {
        "id": "egvpEJfJvgwq"
      },
      "execution_count": null,
      "outputs": []
    },
    {
      "cell_type": "code",
      "source": [
        "## separate fields\n",
        "df_subset = df[['Age Group', 'Gender', 'Length of Stay', 'Total Charges', 'Total Costs', 'Type of Admission']]\n",
        "\n",
        "plt.figure(figsize=(10, 5))\n",
        "plt.boxplot(df_subset['Total Charges'], patch_artist=True, boxprops=dict(facecolor='purple', color='blue'),\n",
        "            medianprops=dict(color='orange'), whiskerprops=dict(color='silver'), capprops=dict(color='blue'))\n",
        "\n",
        "plt.title('Boxplot of Total Charges')\n",
        "plt.ylabel('Total Charges')"
      ],
      "metadata": {
        "id": "dBxgelqY0pvL"
      },
      "execution_count": null,
      "outputs": []
    },
    {
      "cell_type": "code",
      "source": [
        "## bar plot : types of admission\n",
        "\n",
        "admission_counts = df_subset['Type of Admission'].value_counts()\n",
        "\n",
        "plt.figure(figsize=(10, 5))\n",
        "admission_counts.plot(kind='bar', color='skyblue')\n",
        "plt.title('Type of Admission')\n",
        "plt.xlabel('Type of Admission')\n",
        "plt.ylabel('Count')\n",
        "plt.xticks(rotation=45)\n",
        "plt.show()\n"
      ],
      "metadata": {
        "id": "meA9mT-6xJq4"
      },
      "execution_count": null,
      "outputs": []
    }
  ]
}